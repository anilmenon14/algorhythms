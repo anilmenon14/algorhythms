{
 "cells": [
  {
   "cell_type": "code",
   "execution_count": null,
   "metadata": {},
   "outputs": [],
   "source": [
    "import pickle\n",
    "import pandas as pd\n",
    "import glob\n",
    "import configparser\n",
    "import os\n",
    "import altair as alt\n",
    "import numpy as np\n"
   ]
  },
  {
   "cell_type": "markdown",
   "metadata": {},
   "source": [
    "### Build chart comparing edge weights and cutoff values observed for choices of percentile cutoff for embeddings\n",
    "\n",
    "#### Pre-requisite:\n",
    "1. Once embeddings have been generated for each of the choice of percentile cutoff (i.e. using `models/scripts/load_embeddings_from_model.py`), gather the log file to get hold of the edge weight cutoff values and edges remaining.\n",
    "2. Format the data into 3 columns into a csv named `embedding_percentiles.csv` with columns `Percentile cutoff` , `Cutoff value` and `Edges remaining` using data from the log. Save at same level as this notebook (or change path in next cell as needed)."
   ]
  },
  {
   "cell_type": "code",
   "execution_count": null,
   "metadata": {},
   "outputs": [],
   "source": [
    "embeddingPercentilesDf = pd.read_csv('embedding_percentiles.csv')\n",
    "embeddingPercentilesDf['Percentile cutoff'] = embeddingPercentilesDf['Percentile cutoff'].astype(int)\n",
    "embeddingPercentilesDf['Cutoff value'] = embeddingPercentilesDf['Cutoff value'].astype(float)\n",
    "embeddingPercentilesDf['Edges remaining'] = embeddingPercentilesDf['Edges remaining'].astype(int)\n",
    "embeddingPercentilesDf.head()"
   ]
  },
  {
   "cell_type": "code",
   "execution_count": null,
   "metadata": {},
   "outputs": [],
   "source": [
    "# Create a layered chart\n",
    "base = alt.Chart(embeddingPercentilesDf).encode(\n",
    "    alt.X('Percentile cutoff:O', axis=alt.Axis(title=\"Percentile cutoff (in %)\", grid=True, labelFontSize=12 ,titleFontSize = 14))\n",
    ")\n",
    "\n",
    "cutoffLine = base.mark_line(stroke='#5276A7', interpolate='monotone').encode(\n",
    "    alt.Y('Cutoff value',\n",
    "          axis=alt.Axis(title='Edge weight cutoff value observed', titleColor='#5276A7', labelFontSize=12 ,titleFontSize = 14))\n",
    ")\n",
    "\n",
    "remainingEdgesLine = base.mark_line(stroke='#f57542', interpolate='monotone').encode(\n",
    "    alt.Y('Edges remaining',\n",
    "          axis=alt.Axis(title='Total number of edges retained', titleColor='#f57542', labelFontSize=12,titleFontSize = 14))\n",
    ")\n",
    "\n",
    "\n",
    "alt.layer(cutoffLine, remainingEdgesLine).resolve_scale(\n",
    "    y = 'independent'\n",
    ").properties(\n",
    "title=alt.TitleParams(text='Trending of number of edges and edge weight cutoff based on percentile choice', fontSize=20),\n",
    "width = 500\n",
    ")"
   ]
  },
  {
   "cell_type": "markdown",
   "metadata": {},
   "source": [
    "### Build chart comparing choices of Hyperparameters used for `hidden_size` in model trained.\n",
    "\n",
    "#### Pre-requisite:\n",
    "1. Once training has been completed on the GNN (i.e. using `models/scripts/graph_network_GCNConv_mse_loss.py`), gather the log file to get hold of the metrics gathered during training along with validation and test scores.\n",
    "2. Format the data into columns into a csv named `hyperparameter_tuning_hidden_layer.csv` with columns `Epoch`, `train_score`, `validation_score`, `test_score`, `hidden layer size` and use data from log. Save at same level as this notebook (or change path in next cell as needed)."
   ]
  },
  {
   "cell_type": "code",
   "execution_count": null,
   "metadata": {},
   "outputs": [],
   "source": [
    "hyperParamsDf = pd.read_csv('hyperparameter_tuning_hidden_layer.csv')\n",
    "hyperParamsDf.head()"
   ]
  },
  {
   "cell_type": "code",
   "execution_count": null,
   "metadata": {},
   "outputs": [],
   "source": [
    "def generateChart(chartDf,testMseScore,hidden_size):\n",
    "    folded_chart = alt.Chart(chartDf).mark_line().transform_fold(\n",
    "        fold=['train_score', 'validation_score'], \n",
    "        as_=['Type of loss', 'MSE loss score']\n",
    "    ).encode(\n",
    "        alt.X('Epoch:O', axis=alt.Axis(title=\"Epochs in training\", grid=True, labelFontSize=12 ,titleFontSize = 14)),\n",
    "        y=alt.Y('MSE loss score:Q', scale=alt.Scale(domain=[0, 0.5]), axis=alt.Axis(title='MSE loss score', labelFontSize=8, titleFontSize=14)),\n",
    "        color='Type of loss:N'\n",
    "    )\n",
    "    static_text = alt.Chart(pd.DataFrame({'text': ['Test MSE loss : {}'.format(testMseScore)]})).mark_text(\n",
    "        fontSize=10,\n",
    "        align='left',\n",
    "        dx=3, # Adjust the x-offset for positioning\n",
    "        dy=-10,  # Adjust the y-offset for positioning\n",
    "    ).encode(\n",
    "        text='text:N'\n",
    "    )\n",
    "\n",
    "    # Combine the folded chart and the static text annotation\n",
    "    layered_chart = alt.layer(folded_chart, static_text).properties(\n",
    "        #title=\"Hidden size = {}\".format(hidden_size)\n",
    "        title=alt.TitleParams(text=\"Hidden size = {}\".format(hidden_size), fontSize=14)\n",
    "    )\n",
    "    return layered_chart\n"
   ]
  },
  {
   "cell_type": "code",
   "execution_count": null,
   "metadata": {},
   "outputs": [],
   "source": [
    "charts = [] # Container for the charts that will be generated\n",
    "for hidden_size in hyperParamsDf['hidden layer size'].unique():\n",
    "    chartDf = hyperParamsDf[hyperParamsDf['hidden layer size'] == hidden_size]\n",
    "    testMseScore = round(chartDf['test_score'].unique()[0],6)\n",
    "    charts.append(generateChart(chartDf,testMseScore,hidden_size))\n",
    "\n",
    "# Concatenate all the 4 charts in 2x2 fashion and display\n",
    "((charts[0] | charts[1]) & (charts[2] | charts[3])).properties(\n",
    "    title=alt.TitleParams(text='Optimizing model based on hidden layer size in GNN', fontSize=20,anchor='middle', offset=30),\n",
    ")"
   ]
  }
 ],
 "metadata": {
  "kernelspec": {
   "display_name": "Python 3",
   "language": "python",
   "name": "python3"
  },
  "language_info": {
   "codemirror_mode": {
    "name": "ipython",
    "version": 3
   },
   "file_extension": ".py",
   "mimetype": "text/x-python",
   "name": "python",
   "nbconvert_exporter": "python",
   "pygments_lexer": "ipython3",
   "version": "3.8.3"
  }
 },
 "nbformat": 4,
 "nbformat_minor": 4
}
